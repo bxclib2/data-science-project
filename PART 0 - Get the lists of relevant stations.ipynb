{
 "cells": [
  {
   "cell_type": "markdown",
   "metadata": {},
   "source": [
    "### Dream Team:  Xingce Bao, Sohyeong Kim, Guilio Masinelli, Silvio Zanoli\n"
   ]
  },
  {
   "cell_type": "markdown",
   "metadata": {},
   "source": [
    "# PART 0. Get the lists of relevant stations\n",
    "\n",
    "In this very first part of the project, we process the station data(`BFKOORD_GEO`) to get a list of stations that are within 10km from Zürich HB. The list is then save as both csv-format and pickel-format to use for the next parts of this project. "
   ]
  },
  {
   "cell_type": "code",
   "execution_count": 1,
   "metadata": {},
   "outputs": [],
   "source": [
    "import numpy as np\n",
    "import pandas as pd\n",
    "import pickle"
   ]
  },
  {
   "cell_type": "code",
   "execution_count": 2,
   "metadata": {},
   "outputs": [],
   "source": [
    "# Get the dataFrame with station number and position and height as a column , and train station name as a column\n",
    "data = pd.read_csv('./data/BFKOORD_GEO', sep=\"%\", header=None,error_bad_lines=False)\n",
    "data.columns = ['data','name']"
   ]
  },
  {
   "cell_type": "code",
   "execution_count": 3,
   "metadata": {},
   "outputs": [],
   "source": [
    "# Split the station number and the longtitude and the latitude and the height and remove all the \"\"\n",
    "number_data = data.data.str.split(' ').tolist()\n",
    "for index,strs in enumerate(number_data):\n",
    "    number_data[index] = list(filter(lambda x: x!=\"\",strs))   "
   ]
  },
  {
   "cell_type": "code",
   "execution_count": 4,
   "metadata": {},
   "outputs": [],
   "source": [
    "# Change to dataFrame and drop the height column because we do not need it \n",
    "number_data = pd.DataFrame(number_data,columns=['station_number','longtitude','latitude','height'])\n",
    "number_data = number_data.drop(columns=\"height\")"
   ]
  },
  {
   "cell_type": "code",
   "execution_count": 5,
   "metadata": {},
   "outputs": [],
   "source": [
    "# Concat the dataFrame to get the readable data\n",
    "station_data = pd.concat([number_data,data],axis = 1)\n",
    "station_data = station_data.drop(columns=\"data\")"
   ]
  },
  {
   "cell_type": "code",
   "execution_count": 6,
   "metadata": {},
   "outputs": [
    {
     "data": {
      "text/html": [
       "<div>\n",
       "<style scoped>\n",
       "    .dataframe tbody tr th:only-of-type {\n",
       "        vertical-align: middle;\n",
       "    }\n",
       "\n",
       "    .dataframe tbody tr th {\n",
       "        vertical-align: top;\n",
       "    }\n",
       "\n",
       "    .dataframe thead th {\n",
       "        text-align: right;\n",
       "    }\n",
       "</style>\n",
       "<table border=\"1\" class=\"dataframe\">\n",
       "  <thead>\n",
       "    <tr style=\"text-align: right;\">\n",
       "      <th></th>\n",
       "      <th>station_number</th>\n",
       "      <th>longtitude</th>\n",
       "      <th>latitude</th>\n",
       "      <th>name</th>\n",
       "    </tr>\n",
       "  </thead>\n",
       "  <tbody>\n",
       "    <tr>\n",
       "      <th>0</th>\n",
       "      <td>0000002</td>\n",
       "      <td>26.074412</td>\n",
       "      <td>44.446770</td>\n",
       "      <td>Bucuresti</td>\n",
       "    </tr>\n",
       "    <tr>\n",
       "      <th>1</th>\n",
       "      <td>0000003</td>\n",
       "      <td>1.811446</td>\n",
       "      <td>50.901549</td>\n",
       "      <td>Calais</td>\n",
       "    </tr>\n",
       "    <tr>\n",
       "      <th>2</th>\n",
       "      <td>0000004</td>\n",
       "      <td>1.075329</td>\n",
       "      <td>51.284212</td>\n",
       "      <td>Canterbury</td>\n",
       "    </tr>\n",
       "    <tr>\n",
       "      <th>3</th>\n",
       "      <td>0000005</td>\n",
       "      <td>-3.543547</td>\n",
       "      <td>50.729172</td>\n",
       "      <td>Exeter</td>\n",
       "    </tr>\n",
       "    <tr>\n",
       "      <th>4</th>\n",
       "      <td>0000007</td>\n",
       "      <td>9.733756</td>\n",
       "      <td>46.922368</td>\n",
       "      <td>Fideris, Bahnhof</td>\n",
       "    </tr>\n",
       "  </tbody>\n",
       "</table>\n",
       "</div>"
      ],
      "text/plain": [
       "  station_number longtitude   latitude               name\n",
       "0        0000002  26.074412  44.446770          Bucuresti\n",
       "1        0000003   1.811446  50.901549             Calais\n",
       "2        0000004   1.075329  51.284212         Canterbury\n",
       "3        0000005  -3.543547  50.729172             Exeter\n",
       "4        0000007   9.733756  46.922368   Fideris, Bahnhof"
      ]
     },
     "execution_count": 6,
     "metadata": {},
     "output_type": "execute_result"
    }
   ],
   "source": [
    "station_data.head()"
   ]
  },
  {
   "cell_type": "code",
   "execution_count": 7,
   "metadata": {},
   "outputs": [],
   "source": [
    "# Find the zurich station\n",
    "zurich = station_data[station_data.station_number==\"8503000\"].reset_index()"
   ]
  },
  {
   "cell_type": "code",
   "execution_count": 8,
   "metadata": {},
   "outputs": [],
   "source": [
    "# Save the longtitude and the latitude of the zurich station\n",
    "zurich_longtitude = float(zurich.at[0,'longtitude'])\n",
    "zurich_latitude = float(zurich.at[0,'latitude'])"
   ]
  },
  {
   "cell_type": "code",
   "execution_count": 9,
   "metadata": {},
   "outputs": [],
   "source": [
    "# Define a function to compute the distance with the longtitude and the latitude\n",
    "from math import sin, cos, sqrt, atan2, radians\n",
    "def compute_distance(longtitude,latitude):\n",
    "    # approximate radius of earth in km\n",
    "    R = 6373.0\n",
    "\n",
    "    lat1 = radians(zurich_latitude)\n",
    "    lon1 = radians(zurich_longtitude)\n",
    "    lat2 = radians(latitude)\n",
    "    lon2 = radians(longtitude)\n",
    "\n",
    "    dlon = lon2 - lon1\n",
    "    dlat = lat2 - lat1\n",
    "\n",
    "    a = sin(dlat / 2)**2 + cos(lat1) * cos(lat2) * sin(dlon / 2)**2\n",
    "    c = 2 * atan2(sqrt(a), sqrt(1 - a))\n",
    "\n",
    "    distance = R * c\n",
    "    return distance"
   ]
  },
  {
   "cell_type": "code",
   "execution_count": 10,
   "metadata": {},
   "outputs": [],
   "source": [
    "# Apply the function to add a column to the dataFrame\n",
    "distance_list = []\n",
    "for longtitude,latitude in zip(list(station_data.longtitude.as_matrix()),list(station_data.latitude.as_matrix())):\n",
    "    distance_list.append(compute_distance(float(longtitude),float(latitude)))\n",
    "\n",
    "station_data = pd.concat([station_data,pd.Series(np.array(distance_list))],axis = 1)"
   ]
  },
  {
   "cell_type": "code",
   "execution_count": 11,
   "metadata": {},
   "outputs": [],
   "source": [
    "# Change the column name to \"distance\"\n",
    "new_column = list(station_data.columns)\n",
    "new_column[-1] = \"distance\"\n",
    "station_data.columns = new_column"
   ]
  },
  {
   "cell_type": "code",
   "execution_count": 12,
   "metadata": {},
   "outputs": [
    {
     "data": {
      "text/html": [
       "<div>\n",
       "<style scoped>\n",
       "    .dataframe tbody tr th:only-of-type {\n",
       "        vertical-align: middle;\n",
       "    }\n",
       "\n",
       "    .dataframe tbody tr th {\n",
       "        vertical-align: top;\n",
       "    }\n",
       "\n",
       "    .dataframe thead th {\n",
       "        text-align: right;\n",
       "    }\n",
       "</style>\n",
       "<table border=\"1\" class=\"dataframe\">\n",
       "  <thead>\n",
       "    <tr style=\"text-align: right;\">\n",
       "      <th></th>\n",
       "      <th>station_number</th>\n",
       "      <th>longtitude</th>\n",
       "      <th>latitude</th>\n",
       "      <th>name</th>\n",
       "      <th>distance</th>\n",
       "    </tr>\n",
       "  </thead>\n",
       "  <tbody>\n",
       "    <tr>\n",
       "      <th>0</th>\n",
       "      <td>0000002</td>\n",
       "      <td>26.074412</td>\n",
       "      <td>44.446770</td>\n",
       "      <td>Bucuresti</td>\n",
       "      <td>1392.306576</td>\n",
       "    </tr>\n",
       "    <tr>\n",
       "      <th>1</th>\n",
       "      <td>0000003</td>\n",
       "      <td>1.811446</td>\n",
       "      <td>50.901549</td>\n",
       "      <td>Calais</td>\n",
       "      <td>626.736599</td>\n",
       "    </tr>\n",
       "    <tr>\n",
       "      <th>2</th>\n",
       "      <td>0000004</td>\n",
       "      <td>1.075329</td>\n",
       "      <td>51.284212</td>\n",
       "      <td>Canterbury</td>\n",
       "      <td>693.356811</td>\n",
       "    </tr>\n",
       "    <tr>\n",
       "      <th>3</th>\n",
       "      <td>0000005</td>\n",
       "      <td>-3.543547</td>\n",
       "      <td>50.729172</td>\n",
       "      <td>Exeter</td>\n",
       "      <td>955.019886</td>\n",
       "    </tr>\n",
       "    <tr>\n",
       "      <th>4</th>\n",
       "      <td>0000007</td>\n",
       "      <td>9.733756</td>\n",
       "      <td>46.922368</td>\n",
       "      <td>Fideris, Bahnhof</td>\n",
       "      <td>103.546375</td>\n",
       "    </tr>\n",
       "  </tbody>\n",
       "</table>\n",
       "</div>"
      ],
      "text/plain": [
       "  station_number longtitude   latitude               name     distance\n",
       "0        0000002  26.074412  44.446770          Bucuresti  1392.306576\n",
       "1        0000003   1.811446  50.901549             Calais   626.736599\n",
       "2        0000004   1.075329  51.284212         Canterbury   693.356811\n",
       "3        0000005  -3.543547  50.729172             Exeter   955.019886\n",
       "4        0000007   9.733756  46.922368   Fideris, Bahnhof   103.546375"
      ]
     },
     "execution_count": 12,
     "metadata": {},
     "output_type": "execute_result"
    }
   ],
   "source": [
    "station_data.head()"
   ]
  },
  {
   "cell_type": "code",
   "execution_count": 13,
   "metadata": {},
   "outputs": [
    {
     "data": {
      "text/html": [
       "<div>\n",
       "<style scoped>\n",
       "    .dataframe tbody tr th:only-of-type {\n",
       "        vertical-align: middle;\n",
       "    }\n",
       "\n",
       "    .dataframe tbody tr th {\n",
       "        vertical-align: top;\n",
       "    }\n",
       "\n",
       "    .dataframe thead th {\n",
       "        text-align: right;\n",
       "    }\n",
       "</style>\n",
       "<table border=\"1\" class=\"dataframe\">\n",
       "  <thead>\n",
       "    <tr style=\"text-align: right;\">\n",
       "      <th></th>\n",
       "      <th>station_number</th>\n",
       "      <th>longtitude</th>\n",
       "      <th>latitude</th>\n",
       "      <th>name</th>\n",
       "      <th>distance</th>\n",
       "    </tr>\n",
       "  </thead>\n",
       "  <tbody>\n",
       "    <tr>\n",
       "      <th>74</th>\n",
       "      <td>0000176</td>\n",
       "      <td>8.521961</td>\n",
       "      <td>47.351679</td>\n",
       "      <td>Zimmerberg-Basistunnel</td>\n",
       "      <td>3.251690</td>\n",
       "    </tr>\n",
       "    <tr>\n",
       "      <th>2084</th>\n",
       "      <td>8502220</td>\n",
       "      <td>8.434713</td>\n",
       "      <td>47.390882</td>\n",
       "      <td>Urdorf</td>\n",
       "      <td>8.068440</td>\n",
       "    </tr>\n",
       "    <tr>\n",
       "      <th>2085</th>\n",
       "      <td>8502221</td>\n",
       "      <td>8.437543</td>\n",
       "      <td>47.357432</td>\n",
       "      <td>Birmensdorf ZH</td>\n",
       "      <td>8.069963</td>\n",
       "    </tr>\n",
       "    <tr>\n",
       "      <th>2086</th>\n",
       "      <td>8502222</td>\n",
       "      <td>8.468175</td>\n",
       "      <td>47.325896</td>\n",
       "      <td>Bonstetten-Wettswil</td>\n",
       "      <td>7.954183</td>\n",
       "    </tr>\n",
       "    <tr>\n",
       "      <th>2092</th>\n",
       "      <td>8502229</td>\n",
       "      <td>8.430330</td>\n",
       "      <td>47.380971</td>\n",
       "      <td>Urdorf Weihermatt</td>\n",
       "      <td>8.280418</td>\n",
       "    </tr>\n",
       "  </tbody>\n",
       "</table>\n",
       "</div>"
      ],
      "text/plain": [
       "     station_number longtitude   latitude                     name  distance\n",
       "74          0000176   8.521961  47.351679   Zimmerberg-Basistunnel  3.251690\n",
       "2084        8502220   8.434713  47.390882                   Urdorf  8.068440\n",
       "2085        8502221   8.437543  47.357432           Birmensdorf ZH  8.069963\n",
       "2086        8502222   8.468175  47.325896      Bonstetten-Wettswil  7.954183\n",
       "2092        8502229   8.430330  47.380971        Urdorf Weihermatt  8.280418"
      ]
     },
     "execution_count": 13,
     "metadata": {},
     "output_type": "execute_result"
    }
   ],
   "source": [
    "# Remove the data which is more than 10km from Zurich\n",
    "useful_data = station_data[station_data.distance <= 10]\n",
    "useful_data.head()"
   ]
  },
  {
   "cell_type": "code",
   "execution_count": 14,
   "metadata": {},
   "outputs": [],
   "source": [
    "# Save the data to the csv file\n",
    "useful_data.to_csv(\"train_station_id.csv\",index = False)\n",
    "\n",
    "# Save the matrix to pickle\n",
    "pickle.dump(useful_data,open(\"train_station_id.p\",\"wb\"))"
   ]
  }
 ],
 "metadata": {
  "kernelspec": {
   "display_name": "Python 3",
   "language": "python",
   "name": "python3"
  },
  "language_info": {
   "codemirror_mode": {
    "name": "ipython",
    "version": 3
   },
   "file_extension": ".py",
   "mimetype": "text/x-python",
   "name": "python",
   "nbconvert_exporter": "python",
   "pygments_lexer": "ipython3",
   "version": "3.6.4"
  }
 },
 "nbformat": 4,
 "nbformat_minor": 2
}
